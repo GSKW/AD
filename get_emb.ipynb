{
 "cells": [
  {
   "cell_type": "code",
   "execution_count": 11,
   "id": "5d5c666b-4754-4766-b1b5-33593af8541f",
   "metadata": {
    "tags": []
   },
   "outputs": [],
   "source": [
    "import fasttext\n",
    "import numpy as np\n",
    "import pickle\n",
    "from numpy.linalg import norm"
   ]
  },
  {
   "cell_type": "code",
   "execution_count": 5,
   "id": "697e9939-d23a-4762-a55b-1a57a004584f",
   "metadata": {
    "tags": []
   },
   "outputs": [
    {
     "name": "stderr",
     "output_type": "stream",
     "text": [
      "Warning : `load_model` does not return WordVectorModel or SupervisedModel any more, but a `FastText` object which is very similar.\n"
     ]
    }
   ],
   "source": [
    "small_model_wiki = 'ccru.300.bin'\n",
    "model = fasttext.FastText.load_model(small_model_wiki)"
   ]
  },
  {
   "cell_type": "code",
   "execution_count": 3,
   "id": "068da77c-433b-4961-b616-6e624e873c52",
   "metadata": {
    "tags": []
   },
   "outputs": [],
   "source": [
    "word1 = ['современный', 'актуальный', 'новый']\n",
    "word2 = ['старый', 'древний']\n",
    "word3 = ['стандартный']"
   ]
  },
  {
   "cell_type": "code",
   "execution_count": 4,
   "id": "83f2d8a7-3176-4a91-bfaf-995a92eacabc",
   "metadata": {
    "tags": []
   },
   "outputs": [],
   "source": [
    "valid_data = {\n",
    "    'уютный':2,\n",
    "  'стильный':1,\n",
    "  'обычная':3,\n",
    "  'современная':1,\n",
    "  'старинная':2,\n",
    "  'новый':1,\n",
    "  'теплая':2,\n",
    "  'холодная':1,\n",
    "  'простая':3,\n",
    "  'классическая':3,\n",
    "  'дешевая':3,\n",
    "}"
   ]
  },
  {
   "cell_type": "code",
   "execution_count": 7,
   "id": "36757eff-4f6f-40c5-95b7-5bcea69771dc",
   "metadata": {
    "tags": []
   },
   "outputs": [
    {
     "name": "stdout",
     "output_type": "stream",
     "text": [
      "Help on method get_nearest_neighbors in module fasttext.FastText:\n",
      "\n",
      "get_nearest_neighbors(word, k=10, on_unicode_error='strict') method of fasttext.FastText._FastText instance\n",
      "\n"
     ]
    }
   ],
   "source": [
    "help(model.get_nearest_neighbors)"
   ]
  },
  {
   "cell_type": "code",
   "execution_count": 30,
   "id": "8df0d320-27e7-4591-b2b0-5f1472d534c0",
   "metadata": {
    "tags": []
   },
   "outputs": [],
   "source": [
    "new_words = model.get_nearest_neighbors('современный')\n",
    "old_words = model.get_nearest_neighbors('старый')\n",
    "classic_words = model.get_nearest_neighbors('классический')\n",
    "min_words = "
   ]
  },
  {
   "cell_type": "code",
   "execution_count": 40,
   "id": "66e51653-4852-4113-bf30-16308f29b31e",
   "metadata": {
    "tags": []
   },
   "outputs": [],
   "source": [
    "new_ex_word = np.add.reduce(np.array([np.array(model.get_word_vector(x[1])) for x in new_words]))\n",
    "old_ex_word = np.add.reduce(np.array([np.array(model.get_word_vector(x[1])) for x in old_words]))\n",
    "cls_ex_word = np.add.reduce(np.array([np.array(model.get_word_vector(x[1])) for x in classic_words]))"
   ]
  },
  {
   "cell_type": "code",
   "execution_count": 56,
   "id": "39756912-f293-4276-ae3c-d47f90b88737",
   "metadata": {
    "tags": []
   },
   "outputs": [],
   "source": [
    "new_ex_word1 = model.get_sentence_vector(' '.join([x[1] for x in new_words]))\n",
    "old_ex_word1 = model.get_sentence_vector(' '.join([x[1] for x in old_words]))\n",
    "cls_ex_word1 = model.get_sentence_vector(' '.join([x[1] for x in classic_words]))"
   ]
  },
  {
   "cell_type": "code",
   "execution_count": 57,
   "id": "adaac4ae-8559-4ae9-beca-03a9ef06b6ce",
   "metadata": {
    "tags": []
   },
   "outputs": [],
   "source": [
    "new = model.get_sentence_vector(''.join(word1))\n",
    "old = model.get_sentence_vector(''.join(word2))\n",
    "cls_ = model.get_sentence_vector(''.join(word3))\n",
    "\n",
    "my_word = model.get_sentence_vector(\"Старый\")"
   ]
  },
  {
   "cell_type": "code",
   "execution_count": 61,
   "id": "61634a2c-ba86-4325-9d6c-f3ad708fa6f7",
   "metadata": {
    "tags": []
   },
   "outputs": [
    {
     "name": "stdout",
     "output_type": "stream",
     "text": [
      "Cosine Similarity: 0.76363003\n",
      "Cosine Similarity: 0.499015\n",
      "Cosine Similarity: 0.7455463\n",
      "Cosine Similarity: 0.49839428\n"
     ]
    }
   ],
   "source": [
    "A = np.array(my_word)\n",
    "B1 = np.array(old_ex_word)\n",
    "B2 = np.array(new_ex_word)\n",
    "\n",
    "B11 = np.array(old_ex_word1)\n",
    "B22 = np.array(new_ex_word1)\n",
    "\n",
    "\n",
    "cosine1 = np.dot(A,B1)/(norm(A)*norm(B1))\n",
    "print(\"Cosine Similarity:\", cosine1)\n",
    "\n",
    "cosine2 = np.dot(A,B2)/(norm(A)*norm(B2))\n",
    "print(\"Cosine Similarity:\", cosine2)\n",
    "\n",
    "cosine3 = np.dot(A,B11)/(norm(A)*norm(B11))\n",
    "print(\"Cosine Similarity:\", cosine3)\n",
    "\n",
    "cosine4 = np.dot(A,B22)/(norm(A)*norm(B22))\n",
    "print(\"Cosine Similarity:\", cosine4)"
   ]
  },
  {
   "cell_type": "code",
   "execution_count": 62,
   "id": "d9f6646e-cc61-458d-89d3-e3aa41a4e8e2",
   "metadata": {
    "tags": []
   },
   "outputs": [],
   "source": [
    "dict_ = {\n",
    "    'new':new_ex_word,\n",
    "    'old':old_ex_word,\n",
    "    'new':cls_ex_word,\n",
    "}"
   ]
  },
  {
   "cell_type": "code",
   "execution_count": 65,
   "id": "27a9bf9e-89e4-4d1e-8086-b50ae58c430b",
   "metadata": {
    "tags": []
   },
   "outputs": [],
   "source": [
    "pickle.dump(dict_, open('emb.pth', 'wb'))"
   ]
  },
  {
   "cell_type": "code",
   "execution_count": null,
   "id": "6f71d7b7-39eb-498a-b2dc-67ff35f3f440",
   "metadata": {},
   "outputs": [],
   "source": []
  }
 ],
 "metadata": {
  "kernelspec": {
   "display_name": "Python 3 (ipykernel)",
   "language": "python",
   "name": "python3"
  },
  "language_info": {
   "codemirror_mode": {
    "name": "ipython",
    "version": 3
   },
   "file_extension": ".py",
   "mimetype": "text/x-python",
   "name": "python",
   "nbconvert_exporter": "python",
   "pygments_lexer": "ipython3",
   "version": "3.10.0"
  }
 },
 "nbformat": 4,
 "nbformat_minor": 5
}
